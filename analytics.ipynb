{
 "cells": [
  {
   "cell_type": "code",
   "execution_count": null,
   "metadata": {},
   "outputs": [],
   "source": [
    "%pip install pylatex pandas matplotlib numpy"
   ]
  },
  {
   "cell_type": "code",
   "execution_count": null,
   "metadata": {},
   "outputs": [],
   "source": [
    "import pandas as pd\n",
    "\n",
    "df = pd.read_csv(\"measurements/reliable-results.csv\")\n",
    "df"
   ]
  },
  {
   "cell_type": "code",
   "execution_count": null,
   "metadata": {},
   "outputs": [],
   "source": [
    "opt_data_by_content = {}\n",
    "\n",
    "# Gather data for plotting\n",
    "for content_type in df[\"content_type\"].unique():\n",
    "    content = df[df[\"content_type\"] == content_type].sort_values(by=\"number_of_peers\")\n",
    "    data = content[[\"number_of_peers\", \"opt_type\", \"runtime_in_ms\"]]\n",
    "\n",
    "    peers = data[\"number_of_peers\"].unique()\n",
    "    dir_data = data[data[\"opt_type\"] == \"DIR\"][\"runtime_in_ms\"].values\n",
    "    heu_data = data[data[\"opt_type\"] == \"HEU\"][\"runtime_in_ms\"].values\n",
    "    ilp_data = data[data[\"opt_type\"] == \"ILP\"][\"runtime_in_ms\"].values\n",
    "    mst_data = data[data[\"opt_type\"] == \"MST\"][\"runtime_in_ms\"].values\n",
    "\n",
    "    # Adjust zero values in dir_data to 0.1 to avoid division by zero\n",
    "    dir_data[dir_data <= 0.1] = 0.1\n",
    "\n",
    "    # Put data together for plotting\n",
    "    opt_data = {\"DIR\": dir_data, \"HEU\": heu_data, \"ILP\": ilp_data, \"MST\": mst_data}\n",
    "    opt_data_by_content[content_type] = opt_data\n",
    "\n",
    "print(\"Data for plotting:\")\n",
    "for content_type, opt_data in opt_data_by_content.items():\n",
    "    print(content_type)\n",
    "    for opt_type, data in opt_data.items():\n",
    "        print(f\"\\t{opt_type}: {data[:3]} ...\")"
   ]
  },
  {
   "cell_type": "code",
   "execution_count": 50,
   "metadata": {},
   "outputs": [],
   "source": [
    "import matplotlib.pyplot as plt\n",
    "from matplotlib.gridspec import GridSpec\n",
    "\n",
    "def plot_runtime_vs_peers(peers, opt_data, title):\n",
    "    # Create the figure and grid specification\n",
    "    fig = plt.figure(figsize=(14, 6))\n",
    "    gs = GridSpec(1, 2, width_ratios=[1, 1], wspace=0.3)\n",
    "\n",
    "    # Logarithmic scale subplot\n",
    "    ax1 = fig.add_subplot(gs[0])\n",
    "    ax1.set_title(\"Logarithmic Scale\")\n",
    "    ax1.set_yscale(\"log\")\n",
    "    ax1.set_xlabel(\"Number of Peers\")\n",
    "    ax1.set_ylabel(\"Runtime (ms)\")\n",
    "    ax1.grid(True, which=\"both\", linestyle=\"--\", linewidth=0.5)\n",
    "    ax1.set_ylim([0.1, 1e7])\n",
    "    ax1.set_xticks(peers)\n",
    "    ax1.xaxis.set_major_locator(plt.MaxNLocator(nbins=\"auto\", integer=True))\n",
    "\n",
    "    # Linear scale subplot\n",
    "    ax2 = fig.add_subplot(gs[1])\n",
    "    ax2.set_title(\"Linear Scale\")\n",
    "    ax2.set_xlabel(\"Number of Peers\")\n",
    "    ax2.set_ylabel(\"Runtime (ms)\")\n",
    "    ax2.grid(True, which=\"both\", linestyle=\"--\", linewidth=0.5)\n",
    "    ax2.set_ylim([0, 3000000])\n",
    "    ax2.set_xticks(peers)\n",
    "    ax2.xaxis.set_major_locator(plt.MaxNLocator(nbins=\"auto\", integer=True))\n",
    "\n",
    "    COLORED_MARKERS = [(\"black\", \"o\"), (\"blue\", \"p\"), (\"red\", \"s\"), (\"green\", \"^\")]\n",
    "\n",
    "    for (opt, data), (color, marker) in zip(opt_data.items(), COLORED_MARKERS):\n",
    "        peers_for_opt = peers[:len(data)]\n",
    "        # Plot data on log scale\n",
    "        ax1.plot(peers_for_opt, data, label=opt, color=color, marker=marker, linewidth=1.5)\n",
    "        # Plot data on linear scale\n",
    "        ax2.plot(peers_for_opt, data, label=opt, color=color, marker=marker, linewidth=1.5)\n",
    "\n",
    "    ax1.legend(loc=\"upper left\")\n",
    "    ax2.legend(loc=\"upper left\")\n",
    "\n",
    "    # Show the plot\n",
    "    plt.suptitle(title)\n",
    "    plt.savefig(f\"runtime_vs_peers_{title}.svg\")\n",
    "    plt.show()"
   ]
  },
  {
   "cell_type": "code",
   "execution_count": null,
   "metadata": {},
   "outputs": [],
   "source": [
    "for content_type, opt_data in opt_data_by_content.items():\n",
    "    plot_runtime_vs_peers(peers, opt_data, f\"{content_type}\")"
   ]
  }
 ],
 "metadata": {
  "kernelspec": {
   "display_name": "venv",
   "language": "python",
   "name": "python3"
  },
  "language_info": {
   "codemirror_mode": {
    "name": "ipython",
    "version": 3
   },
   "file_extension": ".py",
   "mimetype": "text/x-python",
   "name": "python",
   "nbconvert_exporter": "python",
   "pygments_lexer": "ipython3",
   "version": "3.12.5"
  }
 },
 "nbformat": 4,
 "nbformat_minor": 2
}
